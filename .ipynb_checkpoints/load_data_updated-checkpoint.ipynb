{
 "cells": [
  {
   "cell_type": "code",
   "execution_count": 1,
   "metadata": {},
   "outputs": [],
   "source": [
    "import pandas as pd\n",
    "import numpy as np\n",
    "from pathlib import Path\n",
    "import os\n",
    "import scipy.io as sio\n",
    "import matplotlib.pyplot as plt\n",
    "import torch"
   ]
  },
  {
   "cell_type": "code",
   "execution_count": 4,
   "metadata": {},
   "outputs": [
    {
     "name": "stdout",
     "output_type": "stream",
     "text": [
      "/Users/andreacheng/Desktop/PCM/PrecisionCareMedicine\n"
     ]
    }
   ],
   "source": [
    "print(os.getcwd())"
   ]
  },
  {
   "cell_type": "code",
   "execution_count": 6,
   "metadata": {},
   "outputs": [],
   "source": [
    "data = sio.loadmat('./data/gait_recording_080624_walk.mat')\n",
    "insoleAll_l = data['insoleAll_l'].astype(np.float64)\n",
    "insoleAll_r = data['insoleAll_r'].astype(np.float64)\n",
    "t_insole_l = data['t_insole_l'].astype(np.float64)\n",
    "t_insole_r = data['t_insole_r'].astype(np.float64)"
   ]
  },
  {
   "cell_type": "code",
   "execution_count": 7,
   "metadata": {},
   "outputs": [
    {
     "data": {
      "image/png": "[encoded data removed]",
      "text/plain": [
       "<Figure size 432x288 with 2 Axes>"
      ]
     },
     "metadata": {
      "needs_background": "light"
     },
     "output_type": "display_data"
    }
   ],
   "source": [
    "def plot_insole_grid(grid):\n",
    "    fig = plt.figure()\n",
    "    plt.imshow(reshape_insole_grid(insoleAll_l[0]), cmap='gray', interpolation='nearest')\n",
    "    plt.colorbar(label='Pixel intensity')\n",
    "    plt.title('64x16 Array Pixel Representation')\n",
    "    plt.show()\n",
    "    return fig\n",
    "\n",
    "def reshape_insole_grid(data):\n",
    "    data = data.reshape(64,16)\n",
    "    return data\n",
    "\n",
    "\n",
    "grid = reshape_insole_grid(insoleAll_l[0])\n",
    "\n",
    "fig = plot_insole_grid(grid)"
   ]
  },
  {
   "cell_type": "code",
   "execution_count": 36,
   "metadata": {},
   "outputs": [
    {
     "ename": "IndentationError",
     "evalue": "unexpected indent (<ipython-input-36-d7f94905eb05>, line 13)",
     "output_type": "error",
     "traceback": [
      "\u001b[0;36m  File \u001b[0;32m\"<ipython-input-36-d7f94905eb05>\"\u001b[0;36m, line \u001b[0;32m13\u001b[0m\n\u001b[0;31m    img_r = np.fliplr(img_r)\u001b[0m\n\u001b[0m    ^\u001b[0m\n\u001b[0;31mIndentationError\u001b[0m\u001b[0;31m:\u001b[0m unexpected indent\n"
     ]
    }
   ],
   "source": [
    "for i in range(1): \n",
    "\n",
    "    # Assuming 'insoleAll_l' and 'insoleAll_r' are NumPy arrays and 'i' is the index\n",
    "    # Left Insole Heatmap\n",
    "    insole_l = insoleAll_l[i, :]\n",
    "    img_l = np.reshape(insole_l, (64,16), order = 'F')\n",
    "\n",
    "    # Right Insole Heatmap\n",
    "    insole_r = insoleAll_r[i, :]\n",
    "    img_r = np.reshape(insole_r, (64,16), order = 'F')\n",
    "\n",
    "    # Flip the right insole image\n",
    "        img_r = np.fliplr(img_r)\n",
    "    img_r[:32, :] = np.fliplr(img_r[:32, :])\n",
    "\n",
    "    # Plotting the heatmaps\n",
    "    fig, axs = plt.subplots(1, 2, figsize=(10, 5))\n",
    "\n",
    "    # Left Insole\n",
    "    axs[0].imshow(img_l)\n",
    "    axs[0].set_title(\"Left Insole\")\n",
    "    axs[0].invert_yaxis()  # Ensure y-axis matches MATLAB's default orientation\n",
    "\n",
    "    # Right Insole\n",
    "    axs[1].imshow(img_r)\n",
    "    axs[1].set_title(\"Right Insole\")\n",
    "    axs[1].invert_yaxis()  # Ensure y-axis matches MATLAB's default orientation\n",
    "\n",
    "    plt.show()\n"
   ]
  },
  {
   "cell_type": "code",
   "execution_count": 20,
   "metadata": {},
   "outputs": [
    {
     "data": {
      "image/png": "[encoded data removed]",
      "text/plain": [
       "<Figure size 432x288 with 2 Axes>"
      ]
     },
     "metadata": {
      "needs_background": "light"
     },
     "output_type": "display_data"
    }
   ],
   "source": [
    "insole_r = insoleAll_r[0, :]\n",
    "\n",
    "# Reshape insole_r to 64x16\n",
    "img = np.reshape(insole_r, (64, 16))\n",
    "\n",
    "# Flip the image left-right\n",
    "img = np.fliplr(img)\n",
    "\n",
    "# Flip the top half of the image upside down\n",
    "img[:32, :] = np.flipud(img[:32, :])\n",
    "\n",
    "# Plot the image\n",
    "plt.figure()\n",
    "plt.imshow(img)\n",
    "plt.title(\"Right Insole\")\n",
    "plt.colorbar()\n",
    "plt.show()"
   ]
  },
  {
   "cell_type": "code",
   "execution_count": null,
   "metadata": {},
   "outputs": [],
   "source": []
  }
 ],
 "metadata": {
  "kernelspec": {
   "display_name": "Python 3",
   "language": "python",
   "name": "python3"
  },
  "language_info": {
   "codemirror_mode": {
    "name": "ipython",
    "version": 3
   },
   "file_extension": ".py",
   "mimetype": "text/x-python",
   "name": "python",
   "nbconvert_exporter": "python",
   "pygments_lexer": "ipython3",
   "version": "3.8.8"
  }
 },
 "nbformat": 4,
 "nbformat_minor": 2
}
