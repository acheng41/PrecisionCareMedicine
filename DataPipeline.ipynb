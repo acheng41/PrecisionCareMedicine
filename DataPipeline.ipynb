{
 "cells": [
  {
   "cell_type": "code",
   "execution_count": 2,
   "id": "b5451b89-40d5-4619-b851-f008756baa17",
   "metadata": {},
   "outputs": [],
   "source": [
    "import pandas as pd\n",
    "import numpy as np\n",
    "from pathlib import Path\n",
    "import os\n",
    "import scipy.io as sio\n",
    "import matplotlib.pyplot as plt\n",
    "import torch\n",
    "from torch.utils.data import Dataset, DataLoader"
   ]
  },
  {
   "cell_type": "code",
   "execution_count": 84,
   "id": "23cb8b80-83ac-4ad9-8b4b-441f4bc6308c",
   "metadata": {},
   "outputs": [],
   "source": [
    "class GaitDataset(Dataset):\n",
    "    def __init__(self, data_path, type = None):\n",
    "        \"\"\"\n",
    "        Args:\n",
    "            path: the path to the stored data\n",
    "        \"\"\"\n",
    "        self.data_path = data_path\n",
    "        self.data_paths = os.listdir(data_path)\n",
    "        self.insole_data_name = '_walk.mat'\n",
    "        self.baseline_data_name = '_baselineinformation.xlsx'\n",
    "        self.type = type\n",
    "        \n",
    "    def convert_array_type(input_array):\n",
    "        array = []\n",
    "        for i in range(input_array.shape[0]):\n",
    "            array.append(input_array[i][0])\n",
    "        output_array = np.array(array, dtype = np.float64)\n",
    "        return output_array\n",
    "\n",
    "    def __len__(self):\n",
    "        \"\"\"Returns the total number of samples\"\"\"\n",
    "        \n",
    "        return len(self.data_paths)\n",
    "        \n",
    "    def __getitem__(self, index):\n",
    "        \"\"\"Generates one sample of data\"\"\"\n",
    "        sample_path = self.data_paths[index]\n",
    "\n",
    "        # Load Insole Data\n",
    "        data = sio.loadmat(self.data_path.joinpath(sample_path+'/'+sample_path+self.insole_data_name))\n",
    "        insoleAll_l = data['insoleAll_l'].astype(np.float64)\n",
    "        insoleAll_r = data['insoleAll_r'].astype(np.float64)\n",
    "        jnt_angles_all_l = convert_array_type(data['jnt_angles_all_l'])\n",
    "        jnt_angles_all_r = convert_array_type(data['jnt_angles_all_r'])\n",
    "        jnt_pos_all_l = convert_array_type(data['jnt_pos_all_l'])\n",
    "        jnt_pos_all_r = convert_array_type(data['jnt_pos_all_r'])\n",
    "        tAll_l = data['tAll_l'].astype(np.float64)\n",
    "        tAll_r = data['tAll_r'].astype(np.float64)\n",
    "        t_insole_l = data['t_insole_l'].astype(np.float64)\n",
    "        t_insole_r = data['t_insole_r'].astype(np.float64)\n",
    "        t_trackers = data['t_trackers'].astype(np.float64)\n",
    "\n",
    "        # Load Baseline Data\n",
    "        baseline = pd.read_excel(self.data_path.joinpath(sample_path+'/'+sample_path+self.baseline_data_name))\n",
    "\n",
    "        if self.type is None:\n",
    "            return insoleAll_l, insoleAll_r, t_insole_l, t_insole_r, baseline\n",
    "\n",
    "        if self.type == 'tensor':\n",
    "            return torch.tensor(insoleAll_l), torch.tensor(insoleAll_r), torch.tensor(t_insole_l), torch.tensor(t_insole_r), torch.tensor(baseline)"
   ]
  },
  {
   "cell_type": "code",
   "execution_count": 85,
   "id": "b1b4db80-79dd-400c-8c32-b07712bbe160",
   "metadata": {},
   "outputs": [],
   "source": [
    "try:\n",
    "    # Try to get the script's directory using __file__\n",
    "    root_path = Path(__file__).resolve().parent\n",
    "except NameError:\n",
    "    # Fallback for interactive environments (Jupyter, REPL, etc.)\n",
    "    root_path = Path(os.getcwd()).resolve().parent\n",
    "data_path = root_path.joinpath('data/')\n",
    "\n",
    "DS = GaitDataset(data_path = data_path, type ='tensor')"
   ]
  },
  {
   "cell_type": "code",
   "execution_count": 88,
   "id": "76aa8e3a-a439-4dd7-9290-bed92458f8fe",
   "metadata": {},
   "outputs": [
    {
     "data": {
      "text/plain": [
       "(array([[  0,   0,   0, ...,   0,   0,   0],\n",
       "        [  0,   0,   0, ...,   0,   0,   0],\n",
       "        [  0,   0,   0, ...,   0,   0,   0],\n",
       "        ...,\n",
       "        [  0, 134,   0, ...,   0,   0,   0],\n",
       "        [  0, 139,   0, ...,   0,   0,   0],\n",
       "        [  0, 148,   0, ...,   0,   0,   0]], dtype=uint16),\n",
       " array([[  0,   0, 147, ...,   0,   0,   0],\n",
       "        [  0,   0, 147, ...,   0,   0,   0],\n",
       "        [  0,   0, 147, ...,   0,   0,   0],\n",
       "        ...,\n",
       "        [  0,   0,   0, ...,   0,   0,   0],\n",
       "        [  0,   0,   0, ...,   0,   0,   0],\n",
       "        [  0,   0,   0, ...,   0,   0,   0]], dtype=uint16),\n",
       " array([[1.48000000e-03],\n",
       "        [2.14800000e-02],\n",
       "        [4.14800000e-02],\n",
       "        ...,\n",
       "        [1.51411728e+02],\n",
       "        [1.51431728e+02],\n",
       "        [1.51451728e+02]]),\n",
       " array([[1.13600000e-03],\n",
       "        [2.11360000e-02],\n",
       "        [4.11360000e-02],\n",
       "        ...,\n",
       "        [1.50710691e+02],\n",
       "        [1.50730691e+02],\n",
       "        [1.50750691e+02]]),\n",
       " Empty DataFrame\n",
       " Columns: []\n",
       " Index: [])"
      ]
     },
     "execution_count": 88,
     "metadata": {},
     "output_type": "execute_result"
    }
   ],
   "source": [
    "insoleAll_l, insoleAll_r, t_insole_l, t_insole_r, baseline"
   ]
  }
 ],
 "metadata": {
  "kernelspec": {
   "display_name": "Python 3 (ipykernel)",
   "language": "python",
   "name": "python3"
  },
  "language_info": {
   "codemirror_mode": {
    "name": "ipython",
    "version": 3
   },
   "file_extension": ".py",
   "mimetype": "text/x-python",
   "name": "python",
   "nbconvert_exporter": "python",
   "pygments_lexer": "ipython3",
   "version": "3.9.18"
  }
 },
 "nbformat": 4,
 "nbformat_minor": 5
}
