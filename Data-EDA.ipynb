{
 "cells": [
  {
   "cell_type": "code",
   "execution_count": 1,
   "id": "2a7c1bac-e8e7-4edd-8541-70094823b9df",
   "metadata": {},
   "outputs": [],
   "source": [
    "# Load Data\n",
    "import scipy.io\n",
    "import numpy as np\n",
    "\n",
    "data = scipy.io.loadmat('../data/gait_recording_080624_walk.mat')"
   ]
  },
  {
   "cell_type": "code",
   "execution_count": 3,
   "id": "59f8be64-6fce-41c9-80f2-698aa5c99ebf",
   "metadata": {},
   "outputs": [
    {
     "data": {
      "text/plain": [
       "dict_keys(['__header__', '__version__', '__globals__', 'insoleAll_l', 'insoleAll_r', 'jnt_angles_all_l', 'jnt_angles_all_r', 'jnt_pos_all_l', 'jnt_pos_all_r', 'tAll_l', 'tAll_r', 't_insole_l', 't_insole_r', 't_trackers'])"
      ]
     },
     "execution_count": 3,
     "metadata": {},
     "output_type": "execute_result"
    }
   ],
   "source": [
    "# Get the keys in the dataset\n",
    "data_keys = data.keys()\n",
    "data_keys"
   ]
  },
  {
   "cell_type": "code",
   "execution_count": 9,
   "id": "56f5a490-bafe-4e1f-8242-dff6d9cfbf17",
   "metadata": {},
   "outputs": [
    {
     "data": {
      "text/plain": [
       "array([[1.48000000e-03],\n",
       "       [2.14800000e-02],\n",
       "       [4.14800000e-02],\n",
       "       ...,\n",
       "       [1.51411728e+02],\n",
       "       [1.51431728e+02],\n",
       "       [1.51451728e+02]])"
      ]
     },
     "execution_count": 9,
     "metadata": {},
     "output_type": "execute_result"
    }
   ],
   "source": [
    "np.array(data['t_insole_l'])"
   ]
  },
  {
   "cell_type": "code",
   "execution_count": 10,
   "id": "2b70929e-167e-483a-882d-bcfaa333998c",
   "metadata": {},
   "outputs": [
    {
     "data": {
      "text/plain": [
       "array([[1.13600000e-03],\n",
       "       [2.11360000e-02],\n",
       "       [4.11360000e-02],\n",
       "       ...,\n",
       "       [1.50710691e+02],\n",
       "       [1.50730691e+02],\n",
       "       [1.50750691e+02]])"
      ]
     },
     "execution_count": 10,
     "metadata": {},
     "output_type": "execute_result"
    }
   ],
   "source": [
    "np.array(data['t_insole_r'])"
   ]
  },
  {
   "cell_type": "code",
   "execution_count": 49,
   "id": "aba6b9de-108c-44e0-988d-d9cc6c7bcabc",
   "metadata": {},
   "outputs": [
    {
     "data": {
      "text/plain": [
       "(1859, 1)"
      ]
     },
     "execution_count": 49,
     "metadata": {},
     "output_type": "execute_result"
    }
   ],
   "source": [
    "np.array(data['tAll_l']).shape"
   ]
  }
 ],
 "metadata": {
  "kernelspec": {
   "display_name": "Python 3 (ipykernel)",
   "language": "python",
   "name": "python3"
  },
  "language_info": {
   "codemirror_mode": {
    "name": "ipython",
    "version": 3
   },
   "file_extension": ".py",
   "mimetype": "text/x-python",
   "name": "python",
   "nbconvert_exporter": "python",
   "pygments_lexer": "ipython3",
   "version": "3.9.18"
  }
 },
 "nbformat": 4,
 "nbformat_minor": 5
}
