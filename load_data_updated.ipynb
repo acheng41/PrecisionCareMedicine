{
 "cells": [
  {
   "cell_type": "code",
   "execution_count": 1,
   "metadata": {},
   "outputs": [],
   "source": [
    "import pandas as pd\n",
    "import numpy as np\n",
    "from pathlib import Path\n",
    "import os\n",
    "import scipy.io as sio\n",
    "import matplotlib.pyplot as plt"
   ]
  },
  {
   "cell_type": "code",
   "execution_count": null,
   "metadata": {},
   "outputs": [],
   "source": [
    "print(os.getcwd())"
   ]
  },
  {
   "cell_type": "code",
   "execution_count": 2,
   "metadata": {},
   "outputs": [],
   "source": [
    "data = sio.loadmat('./data/gait_recording_080624_walk2.mat')\n",
    "insoleAll_l = data['insoleAll_l'].astype(np.float64)\n",
    "insoleAll_r = data['insoleAll_r'].astype(np.float64)\n",
    "t_insole_l = data['t_insole_l'].astype(np.float64)\n",
    "t_insole_r = data['t_insole_r'].astype(np.float64)"
   ]
  },
  {
   "cell_type": "code",
   "execution_count": 4,
   "metadata": {},
   "outputs": [
    {
     "data": {
      "image/png": "[encoded data removed]",
      "text/plain": [
       "<Figure size 720x360 with 2 Axes>"
      ]
     },
     "metadata": {
      "needs_background": "light"
     },
     "output_type": "display_data"
    }
   ],
   "source": [
    "\n",
    "\n",
    "# Assuming 'insoleAll_l' and 'insoleAll_r' are NumPy arrays and 'i' is the index\n",
    "# Left Insole Heatmap\n",
    "insole_l = insoleAll_l[0]\n",
    "img_l = np.reshape(insole_l, (64,16), order = 'F')\n",
    "\n",
    "# Right Insole Heatmap\n",
    "insole_r = insoleAll_r[0]\n",
    "img_r = np.reshape(insole_r, (64,16), order = 'F')\n",
    "\n",
    "# Flip the right insole image\n",
    "img_r = np.fliplr(img_r)\n",
    "\n",
    "# Flip the top 32 rows of each \n",
    "img_l[:32,] = np.flipud(img_l[:32,])\n",
    "img_r[:32,] = np.flipud(img_r[:32,])\n",
    "\n",
    "# Plotting the heatmaps\n",
    "fig, axs = plt.subplots(1, 2, figsize=(10, 5))\n",
    "\n",
    "# Left Insole\n",
    "axs[0].imshow(img_l)\n",
    "axs[0].set_title(\"Left Insole\")\n",
    "\n",
    "# Right Insole\n",
    "axs[1].imshow(img_r)\n",
    "axs[1].set_title(\"Right Insole\")\n",
    "\n",
    "plt.show()\n"
   ]
  },
  {
   "cell_type": "code",
   "execution_count": 5,
   "metadata": {},
   "outputs": [
    {
     "data": {
      "image/png": "[encoded data removed]",
      "text/plain": [
       "<Figure size 720x360 with 2 Axes>"
      ]
     },
     "metadata": {
      "needs_background": "light"
     },
     "output_type": "display_data"
    }
   ],
   "source": [
    "\n",
    "from matplotlib.animation import FuncAnimation\n",
    "\n",
    "\n",
    "# Assuming 'insoleAll_l' and 'insoleAll_r' are NumPy arrays\n",
    "# For example, they should have shape (num_frames, 1024) for 64x16 heatmaps per frame\n",
    "num_frames = 300  # Number of frames in your data\n",
    "\n",
    "# Set up the figure and axis for both left and right insoles\n",
    "fig, axs = plt.subplots(1, 2, figsize=(10, 5))\n",
    "\n",
    "# Create the initial heatmap plots for both left and right insoles\n",
    "img_l = axs[0].imshow(np.zeros((64, 16)), cmap='viridis')\n",
    "axs[0].set_title(\"Left Insole\")\n",
    "\n",
    "img_r = axs[1].imshow(np.zeros((64, 16)),cmap='viridis')\n",
    "axs[1].set_title(\"Right Insole\")\n",
    "\n",
    "# Function to update the heatmaps for each frame\n",
    "def update(frame):\n",
    "    # Left Insole Heatmap\n",
    "    insole_l = insoleAll_l[frame]  # Get the left insole data for current frame\n",
    "    img_l_data = np.reshape(insole_l, (64, 16), order='F')\n",
    "    \n",
    "    # Right Insole Heatmap\n",
    "    insole_r = insoleAll_r[frame]  # Get the right insole data for current frame\n",
    "    img_r_data = np.reshape(insole_r, (64, 16), order='F')\n",
    "    img_r_data = np.fliplr(img_r_data)  # Flip the right insole image left-right\n",
    "    \n",
    "    # Flip the top 32 rows of each \n",
    "    img_l_data[:32,] = np.flipud(img_l_data[:32,])\n",
    "    img_r_data[:32,] = np.flipud(img_r_data[:32,])\n",
    "\n",
    "    # Update heatmap data for each subplot\n",
    "    axs[0].imshow(img_l_data)\n",
    "    axs[1].imshow(img_r_data)\n",
    "\n",
    "    return img_l, img_r\n",
    "\n",
    "# Create the animation using FuncAnimation\n",
    "anim = FuncAnimation(fig, update, frames=num_frames, interval=200, blit=True)\n",
    "\n",
    "# Display the animation\n",
    "anim.save('walking_anim.mp4', writer = 'ffmpeg', fps = 10) "
   ]
  },
  {
   "cell_type": "code",
   "execution_count": null,
   "metadata": {},
   "outputs": [],
   "source": []
  }
 ],
 "metadata": {
  "kernelspec": {
   "display_name": "Python 3",
   "language": "python",
   "name": "python3"
  },
  "language_info": {
   "codemirror_mode": {
    "name": "ipython",
    "version": 3
   },
   "file_extension": ".py",
   "mimetype": "text/x-python",
   "name": "python",
   "nbconvert_exporter": "python",
   "pygments_lexer": "ipython3",
   "version": "3.8.8"
  }
 },
 "nbformat": 4,
 "nbformat_minor": 2
}
